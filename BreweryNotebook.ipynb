{
 "cells": [
  {
   "cell_type": "code",
   "execution_count": 18,
   "metadata": {},
   "outputs": [],
   "source": [
    "import json\n",
    "import pandas as pd\n",
    "import numpy as np\n",
    "from pprint import pprint\n",
    "import datetime\n",
    "import re\n",
    "\n",
    "file = \"Brewery_DistilleryData.csv\""
   ]
  },
  {
   "cell_type": "code",
   "execution_count": 27,
   "metadata": {},
   "outputs": [
    {
     "data": {
      "text/plain": [
       "223"
      ]
     },
     "execution_count": 27,
     "metadata": {},
     "output_type": "execute_result"
    }
   ],
   "source": [
    "brewerydf = pd.read_csv(file)\n",
    "brewerydf.fillna(0, inplace = True)\n",
    "brewerydf.head()\n",
    "\n",
    "#reformat date column to eliminate timestamps\n",
    "brewerydf['Issue Date'] = pd.to_datetime(brewerydf['Issue Date'])\n",
    "brewerydf[\"OpenYear\"] = pd.DatetimeIndex(brewerydf[\"Issue Date\"]).year\n",
    "brewerydf.tail(30)\n",
    "len(brewerydf[\"Zip\"].unique())"
   ]
  },
  {
   "cell_type": "code",
   "execution_count": 14,
   "metadata": {},
   "outputs": [],
   "source": [
    "#cleaning the data\n",
    "def filter(year):\n",
    "    df = brewerydf.loc[(brewerydf[\"Business Status\"] == \"Active\") \n",
    "                        & (brewerydf[\"Permit Status\"] == \"Active\")\n",
    "                        & (brewerydf[\"OpenYear\"] == year)\n",
    "                        & (brewerydf[\"Permit Number\"].str.endswith(\"BM\"))\n",
    "                          ]\n",
    "    return df"
   ]
  },
  {
   "cell_type": "code",
   "execution_count": 4,
   "metadata": {},
   "outputs": [],
   "source": [
    "brewerydf.to_csv(\"BreweryDataCleaned.csv\")"
   ]
  },
  {
   "cell_type": "code",
   "execution_count": 46,
   "metadata": {},
   "outputs": [],
   "source": [
    "years = np.arange(1996,2020)\n",
    "temp2 = []\n",
    "for year in years:\n",
    "    temp = filter(year)\n",
    "    temp2.append(len(temp[\"Zip\"].unique()))\n",
    "    "
   ]
  },
  {
   "cell_type": "code",
   "execution_count": 47,
   "metadata": {},
   "outputs": [
    {
     "data": {
      "text/plain": [
       "[1, 0, 2, 0, 2, 1, 0, 0, 3, 1, 1, 5, 2, 3, 5, 5, 9, 16, 22, 16, 29, 40, 71, 41]"
      ]
     },
     "execution_count": 47,
     "metadata": {},
     "output_type": "execute_result"
    }
   ],
   "source": [
    "temp2"
   ]
  },
  {
   "cell_type": "code",
   "execution_count": 31,
   "metadata": {},
   "outputs": [
    {
     "data": {
      "text/plain": [
       "22"
      ]
     },
     "execution_count": 31,
     "metadata": {},
     "output_type": "execute_result"
    }
   ],
   "source": []
  }
 ],
 "metadata": {
  "kernelspec": {
   "display_name": "Python 3",
   "language": "python",
   "name": "python3"
  },
  "language_info": {
   "codemirror_mode": {
    "name": "ipython",
    "version": 3
   },
   "file_extension": ".py",
   "mimetype": "text/x-python",
   "name": "python",
   "nbconvert_exporter": "python",
   "pygments_lexer": "ipython3",
   "version": "3.6.2"
  }
 },
 "nbformat": 4,
 "nbformat_minor": 4
}
